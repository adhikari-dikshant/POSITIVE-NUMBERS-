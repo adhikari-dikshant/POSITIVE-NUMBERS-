{
 "cells": [
  {
   "cell_type": "code",
   "execution_count": 2,
   "metadata": {},
   "outputs": [
    {
     "name": "stdout",
     "output_type": "stream",
     "text": [
      "21 93 "
     ]
    }
   ],
   "source": [
    "# Python program to print positive Numbers in a List \n",
    "  \n",
    "# list of numbers \n",
    "list1 = [-10, 21, -4, -45, -66, 93] \n",
    "num = 0\n",
    "  \n",
    "# using while loop      \n",
    "while(num < len(list1)): \n",
    "      \n",
    "    # checking condition \n",
    "    if list1[num] >= 0: \n",
    "        print(list1[num], end = \" \") \n",
    "      \n",
    "    # increment num  \n",
    "    num += 1\n",
    "     "
   ]
  },
  {
   "cell_type": "code",
   "execution_count": null,
   "metadata": {},
   "outputs": [],
   "source": []
  }
 ],
 "metadata": {
  "kernelspec": {
   "display_name": "Python 3",
   "language": "python",
   "name": "python3"
  },
  "language_info": {
   "codemirror_mode": {
    "name": "ipython",
    "version": 3
   },
   "file_extension": ".py",
   "mimetype": "text/x-python",
   "name": "python",
   "nbconvert_exporter": "python",
   "pygments_lexer": "ipython3",
   "version": "3.8.3"
  }
 },
 "nbformat": 4,
 "nbformat_minor": 4
}
